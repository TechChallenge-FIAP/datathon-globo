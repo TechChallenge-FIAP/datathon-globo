{
 "cells": [
  {
   "cell_type": "code",
   "execution_count": 2,
   "metadata": {
    "executionInfo": {
     "elapsed": 11,
     "status": "ok",
     "timestamp": 1740357589017,
     "user": {
      "displayName": "Bruno Melo",
      "userId": "00641391951095617493"
     },
     "user_tz": 180
    },
    "id": "MqjTdK3FYGfB"
   },
   "outputs": [],
   "source": [
    "import pandas as pd\n",
    "import numpy as np\n",
    "from sklearn.cluster import KMeans\n",
    "from sklearn.preprocessing import StandardScaler\n",
    "from sklearn.feature_extraction.text import TfidfVectorizer\n",
    "from sklearn.metrics.pairwise import linear_kernel\n",
    "import joblib\n",
    "from fastapi import FastAPI\n",
    "import nltk\n",
    "from nltk.corpus import stopwords\n",
    "from unidecode import unidecode\n",
    "\n",
    "import glob\n",
    "import os"
   ]
  },
  {
   "cell_type": "code",
   "execution_count": 3,
   "metadata": {
    "colab": {
     "base_uri": "https://localhost:8080/"
    },
    "executionInfo": {
     "elapsed": 295,
     "status": "ok",
     "timestamp": 1740357593057,
     "user": {
      "displayName": "Bruno Melo",
      "userId": "00641391951095617493"
     },
     "user_tz": 180
    },
    "id": "3wmytc2hYO4l",
    "outputId": "4f4a7875-0381-4471-92ba-2f5cb9311561"
   },
   "outputs": [
    {
     "name": "stderr",
     "output_type": "stream",
     "text": [
      "[nltk_data] Downloading package stopwords to\n",
      "[nltk_data]     /home/brunomelo/nltk_data...\n",
      "[nltk_data]   Unzipping corpora/stopwords.zip.\n"
     ]
    }
   ],
   "source": [
    "nltk.download('stopwords')\n",
    "\n",
    "# Função para processar dados\n",
    "def parse_lista(valor):\n",
    "    return [item.strip() for item in str(valor).split(',')]"
   ]
  },
  {
   "cell_type": "code",
   "execution_count": 7,
   "metadata": {
    "executionInfo": {
     "elapsed": 12,
     "status": "ok",
     "timestamp": 1740357630099,
     "user": {
      "displayName": "Bruno Melo",
      "userId": "00641391951095617493"
     },
     "user_tz": 180
    },
    "id": "jElhvU7-Y6qP"
   },
   "outputs": [],
   "source": [
    "user_path = \"datathon_files/files/treino\"\n",
    "site_path = \"datathon_files/itens/itens\"\n",
    "validacao_path = \"datathon_files/validacao.csv\""
   ]
  },
  {
   "cell_type": "code",
   "execution_count": 8,
   "metadata": {
    "executionInfo": {
     "elapsed": 19947,
     "status": "ok",
     "timestamp": 1740357651573,
     "user": {
      "displayName": "Bruno Melo",
      "userId": "00641391951095617493"
     },
     "user_tz": 180
    },
    "id": "9UXk42bSZAIT"
   },
   "outputs": [],
   "source": [
    "site_files = glob.glob(os.path.join(site_path, \"*.csv\"))\n",
    "site = pd.concat((pd.read_csv(f) for f in site_files), ignore_index=True)"
   ]
  },
  {
   "cell_type": "code",
   "execution_count": 9,
   "metadata": {
    "executionInfo": {
     "elapsed": 23300,
     "status": "ok",
     "timestamp": 1740357674883,
     "user": {
      "displayName": "Bruno Melo",
      "userId": "00641391951095617493"
     },
     "user_tz": 180
    },
    "id": "twRt-IQPYtb1"
   },
   "outputs": [],
   "source": [
    "user_files = glob.glob(os.path.join(user_path, \"*.csv\"))\n",
    "usuarios = pd.concat((pd.read_csv(f) for f in user_files), ignore_index=True)"
   ]
  },
  {
   "cell_type": "code",
   "execution_count": 10,
   "metadata": {
    "executionInfo": {
     "elapsed": 1307,
     "status": "ok",
     "timestamp": 1740357676201,
     "user": {
      "displayName": "Bruno Melo",
      "userId": "00641391951095617493"
     },
     "user_tz": 180
    },
    "id": "xky7g3uPZCN3"
   },
   "outputs": [],
   "source": [
    "validacao = pd.read_csv(validacao_path)"
   ]
  },
  {
   "cell_type": "code",
   "execution_count": 11,
   "metadata": {
    "executionInfo": {
     "elapsed": 21369,
     "status": "ok",
     "timestamp": 1740357699213,
     "user": {
      "displayName": "Bruno Melo",
      "userId": "00641391951095617493"
     },
     "user_tz": 180
    },
    "id": "MYHQZDVTYRYC"
   },
   "outputs": [],
   "source": [
    "# Processar usuários\n",
    "def processar_usuarios(df):\n",
    "    list_columns = ['history', 'timestampHistory', 'numberOfClicksHistory',\n",
    "                   'timeOnPageHistory', 'scrollPercentageHistory', 'pageVisitsCountHistory']\n",
    "\n",
    "    for col in list_columns:\n",
    "        df[col] = df[col].apply(parse_lista)\n",
    "\n",
    "    # Engenharia de features\n",
    "    df['total_cliques'] = df['numberOfClicksHistory'].apply(lambda x: sum(map(int, x)))\n",
    "    df['tempo_medio'] = df['timeOnPageHistory'].apply(lambda x: np.mean(list(map(int, x))))\n",
    "    df['scroll_medio'] = df['scrollPercentageHistory'].apply(lambda x: np.mean(list(map(float, x))))\n",
    "    df['visitas_total'] = df['pageVisitsCountHistory'].apply(lambda x: sum(map(int, x)))\n",
    "\n",
    "    return df\n",
    "\n",
    "usuarios_processados = processar_usuarios(usuarios)"
   ]
  },
  {
   "cell_type": "code",
   "execution_count": 12,
   "metadata": {
    "executionInfo": {
     "elapsed": 15241,
     "status": "ok",
     "timestamp": 1740357740814,
     "user": {
      "displayName": "Bruno Melo",
      "userId": "00641391951095617493"
     },
     "user_tz": 180
    },
    "id": "hUaVZXvuYS8x"
   },
   "outputs": [],
   "source": [
    "# Processar conteúdo das notícias\n",
    "site['conteudo'] = site['title'] + ' ' + site['caption']\n",
    "site['conteudo'] = site['conteudo'].apply(lambda x: unidecode(x.lower()))\n",
    "portuguese_stopwords = set(stopwords.words('portuguese'))\n",
    "tfidf = TfidfVectorizer(stop_words=list(portuguese_stopwords))\n",
    "tfidf_matrix = tfidf.fit_transform(site['conteudo'])"
   ]
  },
  {
   "cell_type": "code",
   "execution_count": 13,
   "metadata": {
    "executionInfo": {
     "elapsed": 454,
     "status": "ok",
     "timestamp": 1740357747051,
     "user": {
      "displayName": "Bruno Melo",
      "userId": "00641391951095617493"
     },
     "user_tz": 180
    },
    "id": "owX0eNxlYbib"
   },
   "outputs": [],
   "source": [
    "# Clusterização de usuários\n",
    "features = usuarios_processados[['total_cliques', 'tempo_medio', 'scroll_medio', 'visitas_total']]\n",
    "scaler = StandardScaler()\n",
    "features_scaled = scaler.fit_transform(features)\n",
    "\n",
    "kmeans = KMeans(n_clusters=5, random_state=42)\n",
    "usuarios_processados['cluster'] = kmeans.fit_predict(features_scaled)\n",
    "\n"
   ]
  },
  {
   "cell_type": "code",
   "execution_count": 14,
   "metadata": {
    "id": "iZ-pGiWbYc8y"
   },
   "outputs": [
    {
     "ename": "MemoryError",
     "evalue": "Unable to allocate 140. GiB for an array with shape (18855907135,) and data type int64",
     "output_type": "error",
     "traceback": [
      "\u001b[0;31m---------------------------------------------------------------------------\u001b[0m",
      "\u001b[0;31mMemoryError\u001b[0m                               Traceback (most recent call last)",
      "Cell \u001b[0;32mIn[14], line 2\u001b[0m\n\u001b[1;32m      1\u001b[0m \u001b[38;5;66;03m# Matriz de similaridade\u001b[39;00m\n\u001b[0;32m----> 2\u001b[0m cosine_sim \u001b[38;5;241m=\u001b[39m \u001b[43mlinear_kernel\u001b[49m\u001b[43m(\u001b[49m\u001b[43mtfidf_matrix\u001b[49m\u001b[43m,\u001b[49m\u001b[43m \u001b[49m\u001b[43mtfidf_matrix\u001b[49m\u001b[43m)\u001b[49m\n\u001b[1;32m      3\u001b[0m indices \u001b[38;5;241m=\u001b[39m pd\u001b[38;5;241m.\u001b[39mSeries(site\u001b[38;5;241m.\u001b[39mindex, index\u001b[38;5;241m=\u001b[39msite[\u001b[38;5;124m'\u001b[39m\u001b[38;5;124mpage\u001b[39m\u001b[38;5;124m'\u001b[39m])\u001b[38;5;241m.\u001b[39mdrop_duplicates()\n",
      "File \u001b[0;32m~/Documents/scripts/datathon/venv/lib64/python3.13/site-packages/sklearn/utils/_param_validation.py:216\u001b[0m, in \u001b[0;36mvalidate_params.<locals>.decorator.<locals>.wrapper\u001b[0;34m(*args, **kwargs)\u001b[0m\n\u001b[1;32m    210\u001b[0m \u001b[38;5;28;01mtry\u001b[39;00m:\n\u001b[1;32m    211\u001b[0m     \u001b[38;5;28;01mwith\u001b[39;00m config_context(\n\u001b[1;32m    212\u001b[0m         skip_parameter_validation\u001b[38;5;241m=\u001b[39m(\n\u001b[1;32m    213\u001b[0m             prefer_skip_nested_validation \u001b[38;5;129;01mor\u001b[39;00m global_skip_validation\n\u001b[1;32m    214\u001b[0m         )\n\u001b[1;32m    215\u001b[0m     ):\n\u001b[0;32m--> 216\u001b[0m         \u001b[38;5;28;01mreturn\u001b[39;00m \u001b[43mfunc\u001b[49m\u001b[43m(\u001b[49m\u001b[38;5;241;43m*\u001b[39;49m\u001b[43margs\u001b[49m\u001b[43m,\u001b[49m\u001b[43m \u001b[49m\u001b[38;5;241;43m*\u001b[39;49m\u001b[38;5;241;43m*\u001b[39;49m\u001b[43mkwargs\u001b[49m\u001b[43m)\u001b[49m\n\u001b[1;32m    217\u001b[0m \u001b[38;5;28;01mexcept\u001b[39;00m InvalidParameterError \u001b[38;5;28;01mas\u001b[39;00m e:\n\u001b[1;32m    218\u001b[0m     \u001b[38;5;66;03m# When the function is just a wrapper around an estimator, we allow\u001b[39;00m\n\u001b[1;32m    219\u001b[0m     \u001b[38;5;66;03m# the function to delegate validation to the estimator, but we replace\u001b[39;00m\n\u001b[1;32m    220\u001b[0m     \u001b[38;5;66;03m# the name of the estimator by the name of the function in the error\u001b[39;00m\n\u001b[1;32m    221\u001b[0m     \u001b[38;5;66;03m# message to avoid confusion.\u001b[39;00m\n\u001b[1;32m    222\u001b[0m     msg \u001b[38;5;241m=\u001b[39m re\u001b[38;5;241m.\u001b[39msub(\n\u001b[1;32m    223\u001b[0m         \u001b[38;5;124mr\u001b[39m\u001b[38;5;124m\"\u001b[39m\u001b[38;5;124mparameter of \u001b[39m\u001b[38;5;124m\\\u001b[39m\u001b[38;5;124mw+ must be\u001b[39m\u001b[38;5;124m\"\u001b[39m,\n\u001b[1;32m    224\u001b[0m         \u001b[38;5;124mf\u001b[39m\u001b[38;5;124m\"\u001b[39m\u001b[38;5;124mparameter of \u001b[39m\u001b[38;5;132;01m{\u001b[39;00mfunc\u001b[38;5;241m.\u001b[39m\u001b[38;5;18m__qualname__\u001b[39m\u001b[38;5;132;01m}\u001b[39;00m\u001b[38;5;124m must be\u001b[39m\u001b[38;5;124m\"\u001b[39m,\n\u001b[1;32m    225\u001b[0m         \u001b[38;5;28mstr\u001b[39m(e),\n\u001b[1;32m    226\u001b[0m     )\n",
      "File \u001b[0;32m~/Documents/scripts/datathon/venv/lib64/python3.13/site-packages/sklearn/metrics/pairwise.py:1434\u001b[0m, in \u001b[0;36mlinear_kernel\u001b[0;34m(X, Y, dense_output)\u001b[0m\n\u001b[1;32m   1400\u001b[0m \u001b[38;5;250m\u001b[39m\u001b[38;5;124;03m\"\"\"\u001b[39;00m\n\u001b[1;32m   1401\u001b[0m \u001b[38;5;124;03mCompute the linear kernel between X and Y.\u001b[39;00m\n\u001b[1;32m   1402\u001b[0m \n\u001b[0;32m   (...)\u001b[0m\n\u001b[1;32m   1431\u001b[0m \u001b[38;5;124;03m       [1., 2.]])\u001b[39;00m\n\u001b[1;32m   1432\u001b[0m \u001b[38;5;124;03m\"\"\"\u001b[39;00m\n\u001b[1;32m   1433\u001b[0m X, Y \u001b[38;5;241m=\u001b[39m check_pairwise_arrays(X, Y)\n\u001b[0;32m-> 1434\u001b[0m \u001b[38;5;28;01mreturn\u001b[39;00m \u001b[43msafe_sparse_dot\u001b[49m\u001b[43m(\u001b[49m\u001b[43mX\u001b[49m\u001b[43m,\u001b[49m\u001b[43m \u001b[49m\u001b[43mY\u001b[49m\u001b[38;5;241;43m.\u001b[39;49m\u001b[43mT\u001b[49m\u001b[43m,\u001b[49m\u001b[43m \u001b[49m\u001b[43mdense_output\u001b[49m\u001b[38;5;241;43m=\u001b[39;49m\u001b[43mdense_output\u001b[49m\u001b[43m)\u001b[49m\n",
      "File \u001b[0;32m~/Documents/scripts/datathon/venv/lib64/python3.13/site-packages/sklearn/utils/extmath.py:203\u001b[0m, in \u001b[0;36msafe_sparse_dot\u001b[0;34m(a, b, dense_output)\u001b[0m\n\u001b[1;32m    201\u001b[0m         ret \u001b[38;5;241m=\u001b[39m xp\u001b[38;5;241m.\u001b[39mtensordot(a, b, axes\u001b[38;5;241m=\u001b[39m[\u001b[38;5;241m-\u001b[39m\u001b[38;5;241m1\u001b[39m, b_axis])\n\u001b[1;32m    202\u001b[0m \u001b[38;5;28;01melse\u001b[39;00m:\n\u001b[0;32m--> 203\u001b[0m     ret \u001b[38;5;241m=\u001b[39m \u001b[43ma\u001b[49m\u001b[43m \u001b[49m\u001b[38;5;241;43m@\u001b[39;49m\u001b[43m \u001b[49m\u001b[43mb\u001b[49m\n\u001b[1;32m    205\u001b[0m \u001b[38;5;28;01mif\u001b[39;00m (\n\u001b[1;32m    206\u001b[0m     sparse\u001b[38;5;241m.\u001b[39missparse(a)\n\u001b[1;32m    207\u001b[0m     \u001b[38;5;129;01mand\u001b[39;00m sparse\u001b[38;5;241m.\u001b[39missparse(b)\n\u001b[1;32m    208\u001b[0m     \u001b[38;5;129;01mand\u001b[39;00m dense_output\n\u001b[1;32m    209\u001b[0m     \u001b[38;5;129;01mand\u001b[39;00m \u001b[38;5;28mhasattr\u001b[39m(ret, \u001b[38;5;124m\"\u001b[39m\u001b[38;5;124mtoarray\u001b[39m\u001b[38;5;124m\"\u001b[39m)\n\u001b[1;32m    210\u001b[0m ):\n\u001b[1;32m    211\u001b[0m     \u001b[38;5;28;01mreturn\u001b[39;00m ret\u001b[38;5;241m.\u001b[39mtoarray()\n",
      "File \u001b[0;32m~/Documents/scripts/datathon/venv/lib64/python3.13/site-packages/scipy/sparse/_base.py:732\u001b[0m, in \u001b[0;36m_spbase.__matmul__\u001b[0;34m(self, other)\u001b[0m\n\u001b[1;32m    729\u001b[0m \u001b[38;5;28;01mif\u001b[39;00m isscalarlike(other):\n\u001b[1;32m    730\u001b[0m     \u001b[38;5;28;01mraise\u001b[39;00m \u001b[38;5;167;01mValueError\u001b[39;00m(\u001b[38;5;124m\"\u001b[39m\u001b[38;5;124mScalar operands are not allowed, \u001b[39m\u001b[38;5;124m\"\u001b[39m\n\u001b[1;32m    731\u001b[0m                      \u001b[38;5;124m\"\u001b[39m\u001b[38;5;124muse \u001b[39m\u001b[38;5;124m'\u001b[39m\u001b[38;5;124m*\u001b[39m\u001b[38;5;124m'\u001b[39m\u001b[38;5;124m instead\u001b[39m\u001b[38;5;124m\"\u001b[39m)\n\u001b[0;32m--> 732\u001b[0m \u001b[38;5;28;01mreturn\u001b[39;00m \u001b[38;5;28;43mself\u001b[39;49m\u001b[38;5;241;43m.\u001b[39;49m\u001b[43m_matmul_dispatch\u001b[49m\u001b[43m(\u001b[49m\u001b[43mother\u001b[49m\u001b[43m)\u001b[49m\n",
      "File \u001b[0;32m~/Documents/scripts/datathon/venv/lib64/python3.13/site-packages/scipy/sparse/_base.py:636\u001b[0m, in \u001b[0;36m_spbase._matmul_dispatch\u001b[0;34m(self, other)\u001b[0m\n\u001b[1;32m    632\u001b[0m     \u001b[38;5;28;01mif\u001b[39;00m N \u001b[38;5;241m!=\u001b[39m other\u001b[38;5;241m.\u001b[39mshape[\u001b[38;5;241m0\u001b[39m]:\n\u001b[1;32m    633\u001b[0m         \u001b[38;5;28;01mraise\u001b[39;00m \u001b[38;5;167;01mValueError\u001b[39;00m(\n\u001b[1;32m    634\u001b[0m             \u001b[38;5;124mf\u001b[39m\u001b[38;5;124m\"\u001b[39m\u001b[38;5;132;01m{\u001b[39;00merr_prefix\u001b[38;5;132;01m}\u001b[39;00m\u001b[38;5;124m (n,k=\u001b[39m\u001b[38;5;132;01m{\u001b[39;00mN\u001b[38;5;132;01m}\u001b[39;00m\u001b[38;5;124m),(k=\u001b[39m\u001b[38;5;132;01m{\u001b[39;00mother\u001b[38;5;241m.\u001b[39mshape[\u001b[38;5;241m0\u001b[39m]\u001b[38;5;132;01m}\u001b[39;00m\u001b[38;5;124m,m)->(n,m)\u001b[39m\u001b[38;5;124m\"\u001b[39m\n\u001b[1;32m    635\u001b[0m         )\n\u001b[0;32m--> 636\u001b[0m     \u001b[38;5;28;01mreturn\u001b[39;00m \u001b[38;5;28;43mself\u001b[39;49m\u001b[38;5;241;43m.\u001b[39;49m\u001b[43m_matmul_sparse\u001b[49m\u001b[43m(\u001b[49m\u001b[43mother\u001b[49m\u001b[43m)\u001b[49m\n\u001b[1;32m    638\u001b[0m \u001b[38;5;66;03m# If it's a list or whatever, treat it like an array\u001b[39;00m\n\u001b[1;32m    639\u001b[0m other_a \u001b[38;5;241m=\u001b[39m np\u001b[38;5;241m.\u001b[39masanyarray(other)\n",
      "File \u001b[0;32m~/Documents/scripts/datathon/venv/lib64/python3.13/site-packages/scipy/sparse/_compressed.py:585\u001b[0m, in \u001b[0;36m_cs_matrix._matmul_sparse\u001b[0;34m(self, other)\u001b[0m\n\u001b[1;32m    580\u001b[0m idx_dtype \u001b[38;5;241m=\u001b[39m \u001b[38;5;28mself\u001b[39m\u001b[38;5;241m.\u001b[39m_get_index_dtype((\u001b[38;5;28mself\u001b[39m\u001b[38;5;241m.\u001b[39mindptr, \u001b[38;5;28mself\u001b[39m\u001b[38;5;241m.\u001b[39mindices,\n\u001b[1;32m    581\u001b[0m                              other\u001b[38;5;241m.\u001b[39mindptr, other\u001b[38;5;241m.\u001b[39mindices),\n\u001b[1;32m    582\u001b[0m                             maxval\u001b[38;5;241m=\u001b[39mnnz)\n\u001b[1;32m    584\u001b[0m indptr \u001b[38;5;241m=\u001b[39m np\u001b[38;5;241m.\u001b[39mempty(major_dim \u001b[38;5;241m+\u001b[39m \u001b[38;5;241m1\u001b[39m, dtype\u001b[38;5;241m=\u001b[39midx_dtype)\n\u001b[0;32m--> 585\u001b[0m indices \u001b[38;5;241m=\u001b[39m \u001b[43mnp\u001b[49m\u001b[38;5;241;43m.\u001b[39;49m\u001b[43mempty\u001b[49m\u001b[43m(\u001b[49m\u001b[43mnnz\u001b[49m\u001b[43m,\u001b[49m\u001b[43m \u001b[49m\u001b[43mdtype\u001b[49m\u001b[38;5;241;43m=\u001b[39;49m\u001b[43midx_dtype\u001b[49m\u001b[43m)\u001b[49m\n\u001b[1;32m    586\u001b[0m data \u001b[38;5;241m=\u001b[39m np\u001b[38;5;241m.\u001b[39mempty(nnz, dtype\u001b[38;5;241m=\u001b[39mupcast(\u001b[38;5;28mself\u001b[39m\u001b[38;5;241m.\u001b[39mdtype, other\u001b[38;5;241m.\u001b[39mdtype))\n\u001b[1;32m    588\u001b[0m fn \u001b[38;5;241m=\u001b[39m \u001b[38;5;28mgetattr\u001b[39m(_sparsetools, \u001b[38;5;28mself\u001b[39m\u001b[38;5;241m.\u001b[39mformat \u001b[38;5;241m+\u001b[39m \u001b[38;5;124m'\u001b[39m\u001b[38;5;124m_matmat\u001b[39m\u001b[38;5;124m'\u001b[39m)\n",
      "\u001b[0;31mMemoryError\u001b[0m: Unable to allocate 140. GiB for an array with shape (18855907135,) and data type int64"
     ]
    }
   ],
   "source": [
    "# Matriz de similaridade\n",
    "cosine_sim = linear_kernel(tfidf_matrix, tfidf_matrix)\n",
    "indices = pd.Series(site.index, index=site['page']).drop_duplicates()"
   ]
  },
  {
   "cell_type": "code",
   "execution_count": null,
   "metadata": {
    "id": "3zgIaCcMYfl7"
   },
   "outputs": [],
   "source": [
    "def validar_modelo(df_validacao, sistema):\n",
    "    from sklearn.metrics import precision_at_k\n",
    "\n",
    "    y_true = df_validacao['history'].apply(parse_lista)\n",
    "    y_pred = [sistema.recomendar_hibrido(row['userId'], 10) for _, row in df_validacao.iterrows()]\n",
    "\n",
    "    # Calcular precisão@k\n",
    "    precision = []\n",
    "    for true, pred in zip(y_true, y_pred):\n",
    "        relevant = set(true)\n",
    "        recommended = set(pred)\n",
    "        precision.append(len(relevant & recommended) / len(recommended))\n",
    "\n",
    "    return np.mean(precision)\n",
    "\n",
    "# Testar precisão\n",
    "print(f\"Precisão@10: {validar_modelo(validacao, sistema):.2%}\")"
   ]
  },
  {
   "cell_type": "code",
   "execution_count": null,
   "metadata": {
    "id": "XCO0Z_dKYhwN"
   },
   "outputs": [],
   "source": [
    "class SistemaRecomendacao:\n",
    "    def __init__(self, kmeans, tfidf, cosine_sim, scaler, usuarios, site):\n",
    "        self.kmeans = kmeans\n",
    "        self.tfidf = tfidf\n",
    "        self.cosine_sim = cosine_sim\n",
    "        self.scaler = scaler\n",
    "        self.usuarios = usuarios\n",
    "        self.site = site\n",
    "        self.indices = pd.Series(site.index, index=site['Page'])\n",
    "\n",
    "    def recomendar_hibrido(self, user_id, n=10):\n",
    "        # ... (mesma lógica anterior)\n",
    "\n",
    "    def salvar_modelo(self, caminho):\n",
    "        joblib.dump({\n",
    "            'kmeans': self.kmeans,\n",
    "            'tfidf': self.tfidf,\n",
    "            'cosine_sim': self.cosine_sim,\n",
    "            'scaler': self.scaler,\n",
    "            'usuarios': self.usuarios,\n",
    "            'site': self.site\n",
    "        }, caminho)\n",
    "\n",
    "    @classmethod\n",
    "    def carregar_modelo(cls, caminho):\n",
    "        modelo = joblib.load(caminho)\n",
    "        return cls(\n",
    "            modelo['kmeans'],\n",
    "            modelo['tfidf'],\n",
    "            modelo['cosine_sim'],\n",
    "            modelo['scaler'],\n",
    "            modelo['usuarios'],\n",
    "            modelo['site']\n",
    "        )\n",
    "\n",
    "# Salvar modelo treinado\n",
    "sistema = SistemaRecomendacao(kmeans, tfidf, cosine_sim, scaler, usuarios_processados, site)\n",
    "sistema.salvar_modelo('modelo_recomendacao.pkl')"
   ]
  },
  {
   "cell_type": "code",
   "execution_count": null,
   "metadata": {
    "id": "w2GxRxqaYktY"
   },
   "outputs": [],
   "source": [
    "app = FastAPI()\n",
    "modelo = None\n",
    "\n",
    "@app.on_event(\"startup\")\n",
    "def carregar_modelo():\n",
    "    global modelo\n",
    "    modelo = SistemaRecomendacao.carregar_modelo('modelo_recomendacao.pkl')\n",
    "\n",
    "@app.get(\"/recomendar/{user_id}\")\n",
    "def recomendar(user_id: str):\n",
    "    recomendacoes = modelo.recomendar_hibrido(user_id, 10)\n",
    "    return {\"user_id\": user_id, \"recomendacoes\": recomendacoes}\n",
    "\n",
    "@app.post(\"/atualizar_modelo\")\n",
    "def atualizar_modelo(novo_caminho: str):\n",
    "    global modelo\n",
    "    modelo = SistemaRecomendacao.carregar_modelo(novo_caminho)\n",
    "    return {\"status\": \"modelo atualizado\"}"
   ]
  }
 ],
 "metadata": {
  "colab": {
   "authorship_tag": "ABX9TyPEqB0RteiWA4lc/DKGWIg6",
   "provenance": []
  },
  "kernelspec": {
   "display_name": "venv",
   "language": "python",
   "name": "python3"
  },
  "language_info": {
   "codemirror_mode": {
    "name": "ipython",
    "version": 3
   },
   "file_extension": ".py",
   "mimetype": "text/x-python",
   "name": "python",
   "nbconvert_exporter": "python",
   "pygments_lexer": "ipython3",
   "version": "3.13.2"
  }
 },
 "nbformat": 4,
 "nbformat_minor": 0
}
